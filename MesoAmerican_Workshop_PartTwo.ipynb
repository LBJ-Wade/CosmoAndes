{
 "cells": [
  {
   "cell_type": "markdown",
   "metadata": {},
   "source": [
    "# Adding Foregrounds to the Simulated CMB\n",
    "\n",
    "## MesoAmerican School (Tuxtla)\n",
    "### Adapted from note developed by\n",
    "### Jeff McMahon and Renée Hložek for the 2016 CMB Data Analysis Summer School at the University of Michigan"
   ]
  },
  {
   "cell_type": "markdown",
   "metadata": {},
   "source": [
    "The previous notebook simulated a purely CMB realisation of the sky. We now want to add in foregrounds to the CMB map. We will start by reading in the parameters we defined in the previous notebook."
   ]
  },
  {
   "cell_type": "code",
   "execution_count": 1,
   "metadata": {
    "collapsed": false
   },
   "outputs": [],
   "source": [
    "import numpy as np\n",
    "import matplotlib\n",
    "import sys\n",
    "import matplotlib.cm as cm\n",
    "import matplotlib.mlab as mlab\n",
    "import matplotlib.pyplot as plt\n",
    "import astropy.io.fits as fits\n",
    "\n",
    "\n",
    "%matplotlib inline\n",
    "#%cd /Your/location/to/the/directory\n",
    "import constants as cs # the constants module\n",
    "from cmb_modules import * # the module of functions\n",
    "N = cs.N\n",
    "c_min = cs.c_min\n",
    "c_max = cs.c_max\n",
    "X_width =cs.X_width\n",
    "Y_width = cs.Y_width\n",
    "\n",
    "pix_size = cs.pix_size"
   ]
  },
  {
   "cell_type": "markdown",
   "metadata": {},
   "source": [
    "## Section 1.3: Point Source Map\n",
    "\n",
    "Point sources in CMB maps arise from a number of astrophysical objects including Active Galactic Nuclei (AGN), Dust Star Forming Galaxies (DSFGs), and a bright tail of lensed DSFGs.  All of theses objects are interesting in their own right.  For the purposes of our mock skies we approximate these populations as a combination of a faint distribution of sources with a poisson distribution of brightness and small number of very bright sources with and exponentially falling source count.   This approximates the distribution of faint and bright sources seen in real CMB maps.   The source parameters were chosen by eye to look about the same as real maps at 150 GHz.   Detailed source counts have been published and can be consulted to add more reality into these simulations.  Publications also detail the frequency scalings of these sources.  In general DSFGs grow brighter at higher frequencies while AGNs have a spectrum that falls with increasing frequencies.  These behaviors must be included in multifrequency analyses and simulations."
   ]
  },
  {
   "cell_type": "code",
   "execution_count": 5,
   "metadata": {
    "collapsed": false
   },
   "outputs": [
    {
     "name": "stdout",
     "output_type": "stream",
     "text": [
      "1024.0 0.5\n"
     ]
    },
    {
     "ename": "IndexError",
     "evalue": "only integers, slices (`:`), ellipsis (`...`), numpy.newaxis (`None`) and integer or boolean arrays are valid indices",
     "output_type": "error",
     "traceback": [
      "\u001b[0;31m---------------------------------------------------------------------------\u001b[0m",
      "\u001b[0;31mIndexError\u001b[0m                                Traceback (most recent call last)",
      "\u001b[0;32m<ipython-input-5-33bf96398929>\u001b[0m in \u001b[0;36m<module>\u001b[0;34m()\u001b[0m\n\u001b[1;32m     36\u001b[0m \u001b[0;31m## make a point source map\u001b[0m\u001b[0;34m\u001b[0m\u001b[0;34m\u001b[0m\u001b[0m\n\u001b[1;32m     37\u001b[0m \u001b[0;32mprint\u001b[0m \u001b[0mN\u001b[0m\u001b[0;34m,\u001b[0m \u001b[0mpix_size\u001b[0m\u001b[0;34m\u001b[0m\u001b[0m\n\u001b[0;32m---> 38\u001b[0;31m \u001b[0mPSMap\u001b[0m \u001b[0;34m=\u001b[0m \u001b[0mPoisson_source_component\u001b[0m\u001b[0;34m(\u001b[0m\u001b[0mN\u001b[0m\u001b[0;34m,\u001b[0m\u001b[0mpix_size\u001b[0m\u001b[0;34m,\u001b[0m\u001b[0mNumber_of_Sources\u001b[0m\u001b[0;34m,\u001b[0m\u001b[0mAmplitude_of_Sources\u001b[0m\u001b[0;34m)\u001b[0m\u001b[0;34m\u001b[0m\u001b[0m\n\u001b[0m\u001b[1;32m     39\u001b[0m \u001b[0mPSMap\u001b[0m \u001b[0;34m+=\u001b[0m  \u001b[0mExponential_source_component\u001b[0m\u001b[0;34m(\u001b[0m\u001b[0mN\u001b[0m\u001b[0;34m,\u001b[0m\u001b[0mpix_size\u001b[0m\u001b[0;34m,\u001b[0m\u001b[0mNumber_of_Sources_EX\u001b[0m\u001b[0;34m,\u001b[0m\u001b[0mAmplitude_of_Sources_EX\u001b[0m\u001b[0;34m)\u001b[0m\u001b[0;34m\u001b[0m\u001b[0m\n\u001b[1;32m     40\u001b[0m \u001b[0;34m\u001b[0m\u001b[0m\n",
      "\u001b[0;32m<ipython-input-5-33bf96398929>\u001b[0m in \u001b[0;36mPoisson_source_component\u001b[0;34m(N, pix_size, Number_of_Sources, Amplitude_of_Sources)\u001b[0m\n\u001b[1;32m     14\u001b[0m         \u001b[0mpix_x\u001b[0m \u001b[0;34m=\u001b[0m \u001b[0mN\u001b[0m\u001b[0;34m*\u001b[0m\u001b[0mnp\u001b[0m\u001b[0;34m.\u001b[0m\u001b[0mrandom\u001b[0m\u001b[0;34m.\u001b[0m\u001b[0mrand\u001b[0m\u001b[0;34m(\u001b[0m\u001b[0;34m)\u001b[0m\u001b[0;34m\u001b[0m\u001b[0m\n\u001b[1;32m     15\u001b[0m         \u001b[0mpix_y\u001b[0m \u001b[0;34m=\u001b[0m \u001b[0mN\u001b[0m\u001b[0;34m*\u001b[0m\u001b[0mnp\u001b[0m\u001b[0;34m.\u001b[0m\u001b[0mrandom\u001b[0m\u001b[0;34m.\u001b[0m\u001b[0mrand\u001b[0m\u001b[0;34m(\u001b[0m\u001b[0;34m)\u001b[0m\u001b[0;34m\u001b[0m\u001b[0m\n\u001b[0;32m---> 16\u001b[0;31m         \u001b[0mPSMap\u001b[0m\u001b[0;34m[\u001b[0m\u001b[0mpix_x\u001b[0m\u001b[0;34m,\u001b[0m\u001b[0mpix_y\u001b[0m\u001b[0;34m]\u001b[0m \u001b[0;34m+=\u001b[0m \u001b[0mnp\u001b[0m\u001b[0;34m.\u001b[0m\u001b[0mrandom\u001b[0m\u001b[0;34m.\u001b[0m\u001b[0mpoisson\u001b[0m\u001b[0;34m(\u001b[0m\u001b[0mAmplitude_of_Sources\u001b[0m\u001b[0;34m)\u001b[0m\u001b[0;34m\u001b[0m\u001b[0m\n\u001b[0m\u001b[1;32m     17\u001b[0m         \u001b[0mi\u001b[0m \u001b[0;34m=\u001b[0m \u001b[0mi\u001b[0m \u001b[0;34m+\u001b[0m \u001b[0;36m1\u001b[0m\u001b[0;34m\u001b[0m\u001b[0m\n\u001b[1;32m     18\u001b[0m \u001b[0;34m\u001b[0m\u001b[0m\n",
      "\u001b[0;31mIndexError\u001b[0m: only integers, slices (`:`), ellipsis (`...`), numpy.newaxis (`None`) and integer or boolean arrays are valid indices"
     ]
    }
   ],
   "source": [
    "### paramaters to set up the Poisson point source distribution\n",
    "Number_of_Sources  = 5000.\n",
    "Amplitude_of_Sources = 200.\n",
    "Number_of_Sources_EX = 50.\n",
    "Amplitude_of_Sources_EX = 1000.\n",
    "\n",
    "def Poisson_source_component(N,pix_size,Number_of_Sources,Amplitude_of_Sources):\n",
    "    \"makes a realization of a naive Poisson-distributed point source map\"\n",
    "    \"takes in the number of pixels, the size of the pixels and the number and amplitude of the sources\"\n",
    "    PSMap = np.zeros([int(N),int(N)])\n",
    "    i = 0.\n",
    "    # we throw random numbers repeatedly with amplitudes given by a Poisson distribution around the mean amplitude\n",
    "    while (i < Number_of_Sources):\n",
    "        pix_x = N*np.random.rand() \n",
    "        pix_y = N*np.random.rand() \n",
    "        PSMap[pix_x,pix_y] += np.random.poisson(Amplitude_of_Sources)\n",
    "        i = i + 1\n",
    "\n",
    "    return(PSMap)    \n",
    "  ############################### \n",
    "\n",
    "def Exponential_source_component(N,pix_size,Number_of_Sources_EX,Amplitude_of_Sources_EX):\n",
    "    \"makes a realization of a naive exponentially-distributed point source map\"\n",
    "    PSMap = np.zeros([int(N),int(N)])\n",
    "    i = 0.\n",
    "    # we throw random numbers repeatedly with amplitudes given by an exponential distribution around the mean amplitude\n",
    "    while (i < Number_of_Sources_EX):\n",
    "        pix_x = N*np.random.rand() \n",
    "        pix_y = N*np.random.rand() \n",
    "        PSMap[pix_x,pix_y] += np.random.exponential(Amplitude_of_Sources_EX)\n",
    "        i = i + 1\n",
    "\n",
    "    return(PSMap)    \n",
    "  ############################### \n",
    "    \n",
    "## make a point source map\n",
    "\n",
    "PSMap = Poisson_source_component(N,pix_size,Number_of_Sources,Amplitude_of_Sources) \n",
    "PSMap +=  Exponential_source_component(N,pix_size,Number_of_Sources_EX,Amplitude_of_Sources_EX)\n",
    "\n",
    "\n",
    "\n",
    "hist,bin_edges = np.histogram(PSMap,bins = 50,range=[.001,PSMap.max()])\n",
    "plt.figure(figsize=(10,10))\n",
    "plt.semilogy(bin_edges[0:-1],hist)\n",
    "plt.xlabel('source amplitude [$\\mu$K]')\n",
    "plt.ylabel('number or pixels')\n",
    "plt.show()\n",
    "\n",
    "p=Plot_CMB_Map(PSMap,c_min,c_max,X_width,Y_width)    "
   ]
  },
  {
   "cell_type": "markdown",
   "metadata": {},
   "source": [
    "The top plot shows a histogram of brightness of the pixels in our source map.   The lower plot shows a map of the point source map we have simulated."
   ]
  },
  {
   "cell_type": "markdown",
   "metadata": {},
   "source": [
    "<font color='red'>EXCERCISE: </font> Plot a histogram of the Poisson sources and a histogram of the exponetial sources.   How do these two distributions differ?"
   ]
  },
  {
   "cell_type": "code",
   "execution_count": null,
   "metadata": {
    "collapsed": true
   },
   "outputs": [],
   "source": [
    "## your code goes here"
   ]
  },
  {
   "cell_type": "markdown",
   "metadata": {},
   "source": [
    "Your discussion goes here"
   ]
  },
  {
   "cell_type": "code",
   "execution_count": null,
   "metadata": {
    "collapsed": true
   },
   "outputs": [],
   "source": []
  },
  {
   "cell_type": "markdown",
   "metadata": {},
   "source": [
    "## Section 1.4: SZ Map\n",
    "\n",
    "Clusters of galaxies imprint a subtle distortion into CMB maps that is most apparent on arcminute scales.    While clusters of galaxies are named after the galaxies bound within them, the galaxies represent only a small fraction of the matter contained within a cluster.   Roughly 80% of the baryons are not contained within galaxies, but rather exist as a cloud of gas bound within the gravitational potential well created by a dark matter halo that caries the vast majority of the mass of the cluster.  Within this well, the dilute gas becomes ionized and heated to temperatures of millions of Kelvin.  Occasionally a CMB photon interacts with one of the hot electrons in this ionized gas.  This interaction (inverse Compton scattering) gives the CMB photon a boost in energy.  Detailed calculations show that this effect (the Sunyev-Zeldovich or SZ effect) leads to decrement of power at frequencies below the 'null' at 220 GHz and extra power at higher frequencies.  This result is redshift independent.  Thus the SZ effect provides a clean way to detect clusters of galaxies and the signal which traces the electron density within the cluster.  The SZ signal is a reasonably good tracer of cluster mass.\n",
    "\n",
    "For these simulations we treat each cluster as having a brightness \"beta profile\", and fix each cluster to have an identical angular size.  We draw the distribution of central temperatures from the exponential distribution to simplify the code and reduce the dependance on external libraries.  For more accurate simulations, a range of clusters sizes should be used, a distribution of cluster shapes (with more accurate profiles) should be considered, and the number of clusters as a function of mass and redshift should be chosen to match measurements of the cluster mass function."
   ]
  },
  {
   "cell_type": "code",
   "execution_count": null,
   "metadata": {
    "collapsed": false
   },
   "outputs": [],
   "source": [
    "### paramaters to set up the SZ point sources\n",
    "Number_of_SZ_Clusters  = 500.\n",
    "Mean_Amplitude_of_SZ_Clusters = 50.\n",
    "SZ_beta = 0.86\n",
    "SZ_Theta_core = 1.0\n",
    "\n",
    "def SZ_source_component(N,pix_size,Number_of_SZ_Clusters,Mean_Amplitude_of_SZ_Clusters,SZ_beta,SZ_Theta_core,do_plots):\n",
    "    \"makes a realization of a naive SZ map\"\n",
    "    SZMap = np.zeros([N,N])\n",
    "    SZcat = np.zeros([3,Number_of_SZ_Clusters]) ## catalogue of SZ sources, X, Y, amplitude\n",
    "    # make a distribution of point sources with varying amplitude\n",
    "    i = 0.\n",
    "    while (i < Number_of_SZ_Clusters):\n",
    "        pix_x = N*np.random.rand() \n",
    "        pix_y = N*np.random.rand() \n",
    "        pix_amplitude = np.random.exponential(Mean_Amplitude_of_SZ_Clusters)*(-1.)\n",
    "        SZcat[0,i] = pix_x\n",
    "        SZcat[1,i] = pix_y\n",
    "        SZcat[2,i] = pix_amplitude\n",
    "        SZMap[pix_x,pix_y] += pix_amplitude\n",
    "        i = i + 1\n",
    "    if (do_plots):\n",
    "        hist,bin_edges = np.histogram(SZMap,bins = 50,range=[SZMap.min(),-10])\n",
    "        plt.figure(figsize=(10,10))\n",
    "        plt.semilogy(bin_edges[0:-1],hist)\n",
    "        plt.xlabel('source amplitude [$\\mu$K]')\n",
    "        plt.ylabel('number of pixels')\n",
    "        plt.show()\n",
    "    \n",
    "    # make a beta function\n",
    "    beta = beta_function(N,pix_size,SZ_beta,SZ_Theta_core)\n",
    "    \n",
    "    # convovle the beta function with the point source amplitude to get the SZ map\n",
    "    FT_beta = np.fft.fft2(np.fft.fftshift(beta))\n",
    "    FT_SZMap = np.fft.fft2(np.fft.fftshift(SZMap))\n",
    "    SZMap = np.fft.fftshift(np.real(np.fft.ifft2(FT_beta*FT_SZMap)))\n",
    "    \n",
    "    # return the SZ map\n",
    "    return(SZMap,SZcat)    \n",
    "  ############################### \n",
    "\n",
    "def beta_function(N,pix_size,SZ_beta,SZ_Theta_core):\n",
    "  # make a beta function\n",
    "    ones = np.ones(N)\n",
    "    inds  = (np.arange(N)+.5 - N/2.) * pix_size\n",
    "    X = np.outer(ones,inds)\n",
    "    Y = np.transpose(X)\n",
    "    R = np.sqrt(X**2. + Y**2.)\n",
    "    \n",
    "    beta = (1 + (R/SZ_Theta_core)**2.)**((1-3.*SZ_beta)/2.)\n",
    "\n",
    "    # return the beta function map\n",
    "    return(beta)\n",
    "  ############################### \n",
    "    \n",
    "## make a point source map\n",
    "\n",
    "SZMap,SZCat = SZ_source_component(N,pix_size,Number_of_SZ_Clusters,Mean_Amplitude_of_SZ_Clusters,SZ_beta,SZ_Theta_core,True)\n",
    "\n",
    "  \n",
    "p=Plot_CMB_Map(SZMap,c_min,c_max,X_width,Y_width)"
   ]
  },
  {
   "cell_type": "markdown",
   "metadata": {},
   "source": [
    "The top plot shows the a histogram of the SZ-decrements from our simulated SZ cluster map.  The bottom plot shows our simulated SZ map."
   ]
  },
  {
   "cell_type": "markdown",
   "metadata": {},
   "source": [
    "<font color='red'>EXCERCISE: </font>  In reality the cluster radii vary from cluster to cluster.  For reference the radius depends on redshift and mass.  The number of clusters as a function of mass and redshift is called the cluster 'mass function' which is a sensitive cosmological proble.  \n",
    "\n",
    "To enhance the realism of our sims, divide the simulated cluster sample into an extremely large radius sample (1 cluster with a 30 arcminute radius, comparable to the Comma cluster; the largest cluster on the sky), a large radius bin (10%) clusters with 5 arcminute radius), a medium bin (30%) with 2 arcminute radius, and a small bin (60% with 0.5 arcminute radius).  "
   ]
  },
  {
   "cell_type": "code",
   "execution_count": null,
   "metadata": {
    "collapsed": true
   },
   "outputs": [],
   "source": [
    "# your code goes here"
   ]
  },
  {
   "cell_type": "markdown",
   "metadata": {},
   "source": [
    "Comment on whether or not your map looks reaosnable.   Also explain why (given the algorithm we are using) we didn't draw the cluster radius from a continuous distribution."
   ]
  },
  {
   "cell_type": "markdown",
   "metadata": {},
   "source": [
    "## 1.5 Full Sky Map\n",
    "\n",
    "The sky map is a combination of the CMB anisotropy, a point source map, and an SZ map.  In an appendix we add the impact of CMB lensing."
   ]
  },
  {
   "cell_type": "code",
   "execution_count": null,
   "metadata": {
    "collapsed": false
   },
   "outputs": [],
   "source": [
    "## remake the CMB map from the pervious excercise\n",
    "ell, DlTT = np.loadtxt(\"CAMB_fiducial_cosmo_scalCls.dat\", usecols=(0, 1), unpack=True) \n",
    "CMB_T = make_CMB_T_map(N,pix_size,ell,DlTT)\n",
    "\n",
    "## add all the componets together\n",
    "total_map = CMB_T + PSMap + SZMap\n",
    "\n",
    "p=Plot_CMB_Map(total_map,c_min,c_max,X_width,Y_width)"
   ]
  },
  {
   "cell_type": "markdown",
   "metadata": {},
   "source": [
    "This plot shows our simulated map that includes CMB, point source, and SZ cluster signals.  Note that the sources seem brighter than what we saw in the real observed maps.   This is not a mistake, as will be seen after we fold in the beam (point spread function) of the instrument."
   ]
  }
 ],
 "metadata": {
  "anaconda-cloud": {},
  "kernelspec": {
   "display_name": "Python [default]",
   "language": "python",
   "name": "python2"
  },
  "language_info": {
   "codemirror_mode": {
    "name": "ipython",
    "version": 2
   },
   "file_extension": ".py",
   "mimetype": "text/x-python",
   "name": "python",
   "nbconvert_exporter": "python",
   "pygments_lexer": "ipython2",
   "version": "2.7.12"
  }
 },
 "nbformat": 4,
 "nbformat_minor": 0
}
